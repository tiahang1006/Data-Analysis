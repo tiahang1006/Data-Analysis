{
 "cells": [
  {
   "cell_type": "markdown",
   "metadata": {},
   "source": [
    "In this notebook, we will learn how to apply linear models, such as Linear Regression, Ridge, LASSO and Elastic Net on our Lending Club dataset, to predict the interest rate for each individual customer. \n",
    "\n",
    "Some features such as loan status and grade are response-related, indicating that they are highly related to the interest rate. Since we might not be able to get those features before predicting interest rate, they should not be included in the model. \n",
    "\n",
    "Before training model, we should \n",
    "\n",
    "* get all categorical variables dummied\n",
    "* split data into train and test\n",
    "* standardization\n",
    "\n",
    "We introduce how to use AIC, MAE and RMSE to select models. Here the models are very simple, so we fine tune both Ridge, LASSO and Elastic Net. The only hyperparameter we tune here is $\\alpha$. You could choose a wide range of values, but we suggest smaller ones as a beginning.\n",
    "\n",
    "To get the candidate $\\alpha$ within a range of say $[10^{-6},10^{-3}]$, linearly pick some values in this interval is a way, but it's not the optimal one. A better way to choose the candidates consists of three steps.\n",
    "\n",
    "1. Take the log10 of minimum and maximum value of this interval. Here the range becomes $[-6,-3]$.\n",
    "2. Uniformly choose a fixed number of values within $[-6,-3]$.\n",
    "3. Each $\\alpha$ is equal to $10^r$, where r is the value chosen from step 2.\n",
    "\n",
    "In this way, you will be able to avoid the scale problem. We use this method to get $\\alpha$ candidates in both Ridge, Lasso and Elastic Net. In addition, we also use Gradient Boosting model (will be taught in the next phase) to predict interest rate. You will find that a complex model will easily beat linear models. \n",
    "\n",
    "At last, we provide feature importances of our best model. Conclusion and Interpretation are given. "
   ]
  },
  {
   "cell_type": "code",
   "execution_count": 1,
   "metadata": {},
   "outputs": [],
   "source": [
    "# Some important packages to import\n",
    "\n",
    "import pandas as pd\n",
    "pd.set_option('display.max_columns', None) # you can see all the columns of a dataframe table\n",
    " \n",
    "import numpy as np\n",
    "import math\n",
    "import time\n",
    "from scipy import stats\n",
    "from collections import Counter\n",
    "\n",
    "from sklearn.preprocessing import MinMaxScaler, LabelEncoder\n",
    "from sklearn.model_selection import train_test_split\n",
    "from sklearn.model_selection import KFold\n",
    "\n",
    "import seaborn as sns\n",
    "import matplotlib.pyplot as plt\n",
    "plt.style.use(\"ggplot\") # ggplot in R\n",
    "\n",
    "import warnings\n",
    "warnings.filterwarnings('ignore')"
   ]
  },
  {
   "cell_type": "markdown",
   "metadata": {},
   "source": [
    "# Read Cleaned Data"
   ]
  },
  {
   "cell_type": "code",
   "execution_count": 2,
   "metadata": {},
   "outputs": [],
   "source": [
    "loan_model = pd.read_csv('../data/LoanStats_model.csv')"
   ]
  },
  {
   "cell_type": "code",
   "execution_count": 3,
   "metadata": {},
   "outputs": [
    {
     "data": {
      "text/html": [
       "<div>\n",
       "<style scoped>\n",
       "    .dataframe tbody tr th:only-of-type {\n",
       "        vertical-align: middle;\n",
       "    }\n",
       "\n",
       "    .dataframe tbody tr th {\n",
       "        vertical-align: top;\n",
       "    }\n",
       "\n",
       "    .dataframe thead th {\n",
       "        text-align: right;\n",
       "    }\n",
       "</style>\n",
       "<table border=\"1\" class=\"dataframe\">\n",
       "  <thead>\n",
       "    <tr style=\"text-align: right;\">\n",
       "      <th></th>\n",
       "      <th>loan_amnt</th>\n",
       "      <th>funded_amnt</th>\n",
       "      <th>funded_amnt_inv</th>\n",
       "      <th>term</th>\n",
       "      <th>int_rate</th>\n",
       "      <th>installment</th>\n",
       "      <th>grade</th>\n",
       "      <th>sub_grade</th>\n",
       "      <th>emp_title</th>\n",
       "      <th>emp_length</th>\n",
       "      <th>home_ownership</th>\n",
       "      <th>issue_d</th>\n",
       "      <th>loan_status</th>\n",
       "      <th>pymnt_plan</th>\n",
       "      <th>purpose</th>\n",
       "      <th>title</th>\n",
       "      <th>zip_code</th>\n",
       "      <th>addr_state</th>\n",
       "      <th>delinq_2yrs</th>\n",
       "      <th>mths_since_last_delinq</th>\n",
       "      <th>pub_rec</th>\n",
       "      <th>total_acc</th>\n",
       "      <th>initial_list_status</th>\n",
       "      <th>out_prncp</th>\n",
       "      <th>out_prncp_inv</th>\n",
       "      <th>total_pymnt</th>\n",
       "      <th>total_pymnt_inv</th>\n",
       "      <th>total_rec_prncp</th>\n",
       "      <th>total_rec_int</th>\n",
       "      <th>total_rec_late_fee</th>\n",
       "      <th>recoveries</th>\n",
       "      <th>collection_recovery_fee</th>\n",
       "      <th>last_pymnt_d</th>\n",
       "      <th>last_pymnt_amnt</th>\n",
       "      <th>next_pymnt_d</th>\n",
       "      <th>last_credit_pull_d</th>\n",
       "      <th>application_type</th>\n",
       "      <th>acc_now_delinq</th>\n",
       "      <th>tot_coll_amt</th>\n",
       "      <th>tot_cur_bal</th>\n",
       "      <th>open_acc_6m</th>\n",
       "      <th>open_il_12m</th>\n",
       "      <th>open_il_24m</th>\n",
       "      <th>mths_since_rcnt_il</th>\n",
       "      <th>total_bal_il</th>\n",
       "      <th>open_rv_12m</th>\n",
       "      <th>open_rv_24m</th>\n",
       "      <th>max_bal_bc</th>\n",
       "      <th>all_util</th>\n",
       "      <th>total_rev_hi_lim</th>\n",
       "      <th>inq_fi</th>\n",
       "      <th>total_cu_tl</th>\n",
       "      <th>inq_last_12m</th>\n",
       "      <th>acc_open_past_24mths</th>\n",
       "      <th>avg_cur_bal</th>\n",
       "      <th>bc_open_to_buy</th>\n",
       "      <th>bc_util</th>\n",
       "      <th>delinq_amnt</th>\n",
       "      <th>mo_sin_old_il_acct</th>\n",
       "      <th>mo_sin_old_rev_tl_op</th>\n",
       "      <th>mo_sin_rcnt_rev_tl_op</th>\n",
       "      <th>mo_sin_rcnt_tl</th>\n",
       "      <th>mths_since_recent_bc</th>\n",
       "      <th>mths_since_recent_inq</th>\n",
       "      <th>num_accts_ever_120_pd</th>\n",
       "      <th>num_actv_bc_tl</th>\n",
       "      <th>num_actv_rev_tl</th>\n",
       "      <th>num_bc_sats</th>\n",
       "      <th>num_bc_tl</th>\n",
       "      <th>num_il_tl</th>\n",
       "      <th>num_op_rev_tl</th>\n",
       "      <th>num_rev_tl_bal_gt_0</th>\n",
       "      <th>num_sats</th>\n",
       "      <th>num_tl_30dpd</th>\n",
       "      <th>num_tl_90g_dpd_24m</th>\n",
       "      <th>num_tl_op_past_12m</th>\n",
       "      <th>pct_tl_nvr_dlq</th>\n",
       "      <th>percent_bc_gt_75</th>\n",
       "      <th>pub_rec_bankruptcies</th>\n",
       "      <th>tax_liens</th>\n",
       "      <th>tot_hi_cred_lim</th>\n",
       "      <th>total_bal_ex_mort</th>\n",
       "      <th>total_bc_limit</th>\n",
       "      <th>total_il_high_credit_limit</th>\n",
       "      <th>hardship_flag</th>\n",
       "      <th>disbursement_method</th>\n",
       "      <th>debt_settlement_flag</th>\n",
       "      <th>settlement_amount</th>\n",
       "      <th>settlement_percentage</th>\n",
       "      <th>settlement_term</th>\n",
       "      <th>is_hardship</th>\n",
       "      <th>annual_inc_new</th>\n",
       "      <th>verification_status_new</th>\n",
       "      <th>dti_new</th>\n",
       "      <th>revol_bal_new</th>\n",
       "      <th>chargeoff_within_12_mths_new</th>\n",
       "      <th>collections_12_mths_ex_med_new</th>\n",
       "      <th>inq_last_6mths_new</th>\n",
       "      <th>mort_acc_new</th>\n",
       "      <th>num_rev_accts_new</th>\n",
       "      <th>open_acc_new</th>\n",
       "      <th>open_act_il_new</th>\n",
       "      <th>earliest_cr_line_new</th>\n",
       "      <th>il_util_2</th>\n",
       "    </tr>\n",
       "  </thead>\n",
       "  <tbody>\n",
       "    <tr>\n",
       "      <th>0</th>\n",
       "      <td>10000.0</td>\n",
       "      <td>10000.0</td>\n",
       "      <td>10000.0</td>\n",
       "      <td>60 months</td>\n",
       "      <td>14.07%</td>\n",
       "      <td>233.05</td>\n",
       "      <td>C</td>\n",
       "      <td>C3</td>\n",
       "      <td>teacher</td>\n",
       "      <td>4 years</td>\n",
       "      <td>RENT</td>\n",
       "      <td>Mar-2018</td>\n",
       "      <td>Current</td>\n",
       "      <td>n</td>\n",
       "      <td>major_purchase</td>\n",
       "      <td>Major purchase</td>\n",
       "      <td>341xx</td>\n",
       "      <td>FL</td>\n",
       "      <td>0.0</td>\n",
       "      <td>32.0</td>\n",
       "      <td>0.0</td>\n",
       "      <td>34.0</td>\n",
       "      <td>w</td>\n",
       "      <td>9035.79</td>\n",
       "      <td>9035.79</td>\n",
       "      <td>1897.19</td>\n",
       "      <td>1897.19</td>\n",
       "      <td>964.21</td>\n",
       "      <td>932.98</td>\n",
       "      <td>0.0</td>\n",
       "      <td>0.0</td>\n",
       "      <td>0.0</td>\n",
       "      <td>Dec-2018</td>\n",
       "      <td>233.05</td>\n",
       "      <td>Jan-2019</td>\n",
       "      <td>Dec-2018</td>\n",
       "      <td>Individual</td>\n",
       "      <td>0.0</td>\n",
       "      <td>0.0</td>\n",
       "      <td>93913.0</td>\n",
       "      <td>0.0</td>\n",
       "      <td>0.0</td>\n",
       "      <td>0.0</td>\n",
       "      <td>54.0</td>\n",
       "      <td>93206.0</td>\n",
       "      <td>0.0</td>\n",
       "      <td>1.0</td>\n",
       "      <td>707.0</td>\n",
       "      <td>111.0</td>\n",
       "      <td>4500.0</td>\n",
       "      <td>0.0</td>\n",
       "      <td>0.0</td>\n",
       "      <td>0.0</td>\n",
       "      <td>1.0</td>\n",
       "      <td>5524.0</td>\n",
       "      <td>3793.0</td>\n",
       "      <td>15.7</td>\n",
       "      <td>0.0</td>\n",
       "      <td>161.0</td>\n",
       "      <td>88.0</td>\n",
       "      <td>18.0</td>\n",
       "      <td>18.0</td>\n",
       "      <td>18.0</td>\n",
       "      <td>18.0</td>\n",
       "      <td>14.0</td>\n",
       "      <td>1.0</td>\n",
       "      <td>1.0</td>\n",
       "      <td>2.0</td>\n",
       "      <td>4.0</td>\n",
       "      <td>30.0</td>\n",
       "      <td>2.0</td>\n",
       "      <td>1.0</td>\n",
       "      <td>17.0</td>\n",
       "      <td>0.0</td>\n",
       "      <td>0.0</td>\n",
       "      <td>0.0</td>\n",
       "      <td>43.8</td>\n",
       "      <td>0.0</td>\n",
       "      <td>0.0</td>\n",
       "      <td>0.0</td>\n",
       "      <td>84930.0</td>\n",
       "      <td>93913.0</td>\n",
       "      <td>4500.0</td>\n",
       "      <td>80430.0</td>\n",
       "      <td>N</td>\n",
       "      <td>Cash</td>\n",
       "      <td>N</td>\n",
       "      <td>0.0</td>\n",
       "      <td>0.0</td>\n",
       "      <td>0.0</td>\n",
       "      <td>True</td>\n",
       "      <td>42000.0</td>\n",
       "      <td>Source Verified</td>\n",
       "      <td>24.69</td>\n",
       "      <td>707.0</td>\n",
       "      <td>0.0</td>\n",
       "      <td>0.0</td>\n",
       "      <td>0.0</td>\n",
       "      <td>0.0</td>\n",
       "      <td>4.0</td>\n",
       "      <td>17.0</td>\n",
       "      <td>15.0</td>\n",
       "      <td>2000</td>\n",
       "      <td>115.884620</td>\n",
       "    </tr>\n",
       "    <tr>\n",
       "      <th>1</th>\n",
       "      <td>2600.0</td>\n",
       "      <td>2600.0</td>\n",
       "      <td>2600.0</td>\n",
       "      <td>36 months</td>\n",
       "      <td>7.96%</td>\n",
       "      <td>81.43</td>\n",
       "      <td>A</td>\n",
       "      <td>A5</td>\n",
       "      <td>minority</td>\n",
       "      <td>3 years</td>\n",
       "      <td>MORTGAGE</td>\n",
       "      <td>Mar-2018</td>\n",
       "      <td>Current</td>\n",
       "      <td>n</td>\n",
       "      <td>other</td>\n",
       "      <td>Other</td>\n",
       "      <td>481xx</td>\n",
       "      <td>MI</td>\n",
       "      <td>0.0</td>\n",
       "      <td>0.0</td>\n",
       "      <td>0.0</td>\n",
       "      <td>9.0</td>\n",
       "      <td>w</td>\n",
       "      <td>2074.45</td>\n",
       "      <td>2074.45</td>\n",
       "      <td>649.14</td>\n",
       "      <td>649.14</td>\n",
       "      <td>525.55</td>\n",
       "      <td>123.59</td>\n",
       "      <td>0.0</td>\n",
       "      <td>0.0</td>\n",
       "      <td>0.0</td>\n",
       "      <td>Dec-2018</td>\n",
       "      <td>81.43</td>\n",
       "      <td>Jan-2019</td>\n",
       "      <td>Dec-2018</td>\n",
       "      <td>Individual</td>\n",
       "      <td>0.0</td>\n",
       "      <td>0.0</td>\n",
       "      <td>241067.0</td>\n",
       "      <td>0.0</td>\n",
       "      <td>0.0</td>\n",
       "      <td>0.0</td>\n",
       "      <td>34.0</td>\n",
       "      <td>56811.0</td>\n",
       "      <td>0.0</td>\n",
       "      <td>1.0</td>\n",
       "      <td>7283.0</td>\n",
       "      <td>56.0</td>\n",
       "      <td>15800.0</td>\n",
       "      <td>0.0</td>\n",
       "      <td>0.0</td>\n",
       "      <td>0.0</td>\n",
       "      <td>1.0</td>\n",
       "      <td>30133.0</td>\n",
       "      <td>588.0</td>\n",
       "      <td>94.4</td>\n",
       "      <td>0.0</td>\n",
       "      <td>79.0</td>\n",
       "      <td>64.0</td>\n",
       "      <td>19.0</td>\n",
       "      <td>19.0</td>\n",
       "      <td>45.0</td>\n",
       "      <td>6.0</td>\n",
       "      <td>0.0</td>\n",
       "      <td>2.0</td>\n",
       "      <td>4.0</td>\n",
       "      <td>2.0</td>\n",
       "      <td>2.0</td>\n",
       "      <td>3.0</td>\n",
       "      <td>5.0</td>\n",
       "      <td>4.0</td>\n",
       "      <td>8.0</td>\n",
       "      <td>0.0</td>\n",
       "      <td>0.0</td>\n",
       "      <td>0.0</td>\n",
       "      <td>100.0</td>\n",
       "      <td>100.0</td>\n",
       "      <td>0.0</td>\n",
       "      <td>0.0</td>\n",
       "      <td>259780.0</td>\n",
       "      <td>68587.0</td>\n",
       "      <td>10500.0</td>\n",
       "      <td>62185.0</td>\n",
       "      <td>N</td>\n",
       "      <td>Cash</td>\n",
       "      <td>N</td>\n",
       "      <td>0.0</td>\n",
       "      <td>0.0</td>\n",
       "      <td>0.0</td>\n",
       "      <td>True</td>\n",
       "      <td>62000.0</td>\n",
       "      <td>Not Verified</td>\n",
       "      <td>19.61</td>\n",
       "      <td>11776.0</td>\n",
       "      <td>0.0</td>\n",
       "      <td>0.0</td>\n",
       "      <td>0.0</td>\n",
       "      <td>1.0</td>\n",
       "      <td>5.0</td>\n",
       "      <td>8.0</td>\n",
       "      <td>2.0</td>\n",
       "      <td>2010</td>\n",
       "      <td>91.358045</td>\n",
       "    </tr>\n",
       "    <tr>\n",
       "      <th>2</th>\n",
       "      <td>10000.0</td>\n",
       "      <td>10000.0</td>\n",
       "      <td>10000.0</td>\n",
       "      <td>36 months</td>\n",
       "      <td>6.07%</td>\n",
       "      <td>304.54</td>\n",
       "      <td>A</td>\n",
       "      <td>A2</td>\n",
       "      <td>director</td>\n",
       "      <td>10+ years</td>\n",
       "      <td>OWN</td>\n",
       "      <td>Mar-2018</td>\n",
       "      <td>Current</td>\n",
       "      <td>n</td>\n",
       "      <td>house</td>\n",
       "      <td>Home buying</td>\n",
       "      <td>117xx</td>\n",
       "      <td>NY</td>\n",
       "      <td>0.0</td>\n",
       "      <td>0.0</td>\n",
       "      <td>0.0</td>\n",
       "      <td>25.0</td>\n",
       "      <td>w</td>\n",
       "      <td>7932.01</td>\n",
       "      <td>7932.01</td>\n",
       "      <td>2429.58</td>\n",
       "      <td>2429.58</td>\n",
       "      <td>2067.99</td>\n",
       "      <td>361.59</td>\n",
       "      <td>0.0</td>\n",
       "      <td>0.0</td>\n",
       "      <td>0.0</td>\n",
       "      <td>Dec-2018</td>\n",
       "      <td>304.54</td>\n",
       "      <td>Jan-2019</td>\n",
       "      <td>Dec-2018</td>\n",
       "      <td>Individual</td>\n",
       "      <td>0.0</td>\n",
       "      <td>0.0</td>\n",
       "      <td>318464.0</td>\n",
       "      <td>0.0</td>\n",
       "      <td>0.0</td>\n",
       "      <td>3.0</td>\n",
       "      <td>16.0</td>\n",
       "      <td>10051.0</td>\n",
       "      <td>0.0</td>\n",
       "      <td>2.0</td>\n",
       "      <td>3634.0</td>\n",
       "      <td>17.0</td>\n",
       "      <td>60900.0</td>\n",
       "      <td>1.0</td>\n",
       "      <td>1.0</td>\n",
       "      <td>0.0</td>\n",
       "      <td>5.0</td>\n",
       "      <td>28951.0</td>\n",
       "      <td>42115.0</td>\n",
       "      <td>14.1</td>\n",
       "      <td>0.0</td>\n",
       "      <td>68.0</td>\n",
       "      <td>288.0</td>\n",
       "      <td>17.0</td>\n",
       "      <td>16.0</td>\n",
       "      <td>17.0</td>\n",
       "      <td>16.0</td>\n",
       "      <td>0.0</td>\n",
       "      <td>2.0</td>\n",
       "      <td>2.0</td>\n",
       "      <td>5.0</td>\n",
       "      <td>9.0</td>\n",
       "      <td>4.0</td>\n",
       "      <td>9.0</td>\n",
       "      <td>2.0</td>\n",
       "      <td>12.0</td>\n",
       "      <td>0.0</td>\n",
       "      <td>0.0</td>\n",
       "      <td>0.0</td>\n",
       "      <td>100.0</td>\n",
       "      <td>0.0</td>\n",
       "      <td>0.0</td>\n",
       "      <td>0.0</td>\n",
       "      <td>434276.0</td>\n",
       "      <td>16936.0</td>\n",
       "      <td>49000.0</td>\n",
       "      <td>37376.0</td>\n",
       "      <td>N</td>\n",
       "      <td>Cash</td>\n",
       "      <td>N</td>\n",
       "      <td>0.0</td>\n",
       "      <td>0.0</td>\n",
       "      <td>0.0</td>\n",
       "      <td>True</td>\n",
       "      <td>175000.0</td>\n",
       "      <td>Source Verified</td>\n",
       "      <td>4.94</td>\n",
       "      <td>6885.0</td>\n",
       "      <td>0.0</td>\n",
       "      <td>0.0</td>\n",
       "      <td>0.0</td>\n",
       "      <td>5.0</td>\n",
       "      <td>16.0</td>\n",
       "      <td>12.0</td>\n",
       "      <td>2.0</td>\n",
       "      <td>1990</td>\n",
       "      <td>26.891588</td>\n",
       "    </tr>\n",
       "    <tr>\n",
       "      <th>3</th>\n",
       "      <td>10000.0</td>\n",
       "      <td>10000.0</td>\n",
       "      <td>10000.0</td>\n",
       "      <td>36 months</td>\n",
       "      <td>7.96%</td>\n",
       "      <td>313.18</td>\n",
       "      <td>A</td>\n",
       "      <td>A5</td>\n",
       "      <td>assistant</td>\n",
       "      <td>2 years</td>\n",
       "      <td>RENT</td>\n",
       "      <td>Mar-2018</td>\n",
       "      <td>Current</td>\n",
       "      <td>n</td>\n",
       "      <td>credit_card</td>\n",
       "      <td>Credit card refinancing</td>\n",
       "      <td>606xx</td>\n",
       "      <td>IL</td>\n",
       "      <td>0.0</td>\n",
       "      <td>0.0</td>\n",
       "      <td>0.0</td>\n",
       "      <td>19.0</td>\n",
       "      <td>w</td>\n",
       "      <td>7878.77</td>\n",
       "      <td>7878.77</td>\n",
       "      <td>2596.60</td>\n",
       "      <td>2596.60</td>\n",
       "      <td>2121.23</td>\n",
       "      <td>475.37</td>\n",
       "      <td>0.0</td>\n",
       "      <td>0.0</td>\n",
       "      <td>0.0</td>\n",
       "      <td>Dec-2018</td>\n",
       "      <td>413.18</td>\n",
       "      <td>Jan-2019</td>\n",
       "      <td>Dec-2018</td>\n",
       "      <td>Individual</td>\n",
       "      <td>0.0</td>\n",
       "      <td>0.0</td>\n",
       "      <td>150009.0</td>\n",
       "      <td>0.0</td>\n",
       "      <td>0.0</td>\n",
       "      <td>0.0</td>\n",
       "      <td>46.0</td>\n",
       "      <td>138429.0</td>\n",
       "      <td>0.0</td>\n",
       "      <td>2.0</td>\n",
       "      <td>3826.0</td>\n",
       "      <td>43.0</td>\n",
       "      <td>26800.0</td>\n",
       "      <td>0.0</td>\n",
       "      <td>1.0</td>\n",
       "      <td>1.0</td>\n",
       "      <td>2.0</td>\n",
       "      <td>13637.0</td>\n",
       "      <td>2161.0</td>\n",
       "      <td>70.4</td>\n",
       "      <td>0.0</td>\n",
       "      <td>119.0</td>\n",
       "      <td>160.0</td>\n",
       "      <td>16.0</td>\n",
       "      <td>16.0</td>\n",
       "      <td>38.0</td>\n",
       "      <td>2.0</td>\n",
       "      <td>0.0</td>\n",
       "      <td>2.0</td>\n",
       "      <td>7.0</td>\n",
       "      <td>2.0</td>\n",
       "      <td>4.0</td>\n",
       "      <td>4.0</td>\n",
       "      <td>10.0</td>\n",
       "      <td>7.0</td>\n",
       "      <td>12.0</td>\n",
       "      <td>0.0</td>\n",
       "      <td>0.0</td>\n",
       "      <td>0.0</td>\n",
       "      <td>100.0</td>\n",
       "      <td>50.0</td>\n",
       "      <td>0.0</td>\n",
       "      <td>0.0</td>\n",
       "      <td>148048.0</td>\n",
       "      <td>150009.0</td>\n",
       "      <td>7300.0</td>\n",
       "      <td>121248.0</td>\n",
       "      <td>N</td>\n",
       "      <td>Cash</td>\n",
       "      <td>N</td>\n",
       "      <td>0.0</td>\n",
       "      <td>0.0</td>\n",
       "      <td>0.0</td>\n",
       "      <td>True</td>\n",
       "      <td>85000.0</td>\n",
       "      <td>Not Verified</td>\n",
       "      <td>7.67</td>\n",
       "      <td>11580.0</td>\n",
       "      <td>0.0</td>\n",
       "      <td>0.0</td>\n",
       "      <td>0.0</td>\n",
       "      <td>0.0</td>\n",
       "      <td>15.0</td>\n",
       "      <td>12.0</td>\n",
       "      <td>2.0</td>\n",
       "      <td>2000</td>\n",
       "      <td>114.170131</td>\n",
       "    </tr>\n",
       "    <tr>\n",
       "      <th>4</th>\n",
       "      <td>11200.0</td>\n",
       "      <td>11200.0</td>\n",
       "      <td>11200.0</td>\n",
       "      <td>60 months</td>\n",
       "      <td>30.79%</td>\n",
       "      <td>367.82</td>\n",
       "      <td>G</td>\n",
       "      <td>G1</td>\n",
       "      <td>minority</td>\n",
       "      <td>&lt; 1 year</td>\n",
       "      <td>RENT</td>\n",
       "      <td>Mar-2018</td>\n",
       "      <td>Current</td>\n",
       "      <td>n</td>\n",
       "      <td>medical</td>\n",
       "      <td>Medical expenses</td>\n",
       "      <td>030xx</td>\n",
       "      <td>NH</td>\n",
       "      <td>1.0</td>\n",
       "      <td>6.0</td>\n",
       "      <td>0.0</td>\n",
       "      <td>14.0</td>\n",
       "      <td>w</td>\n",
       "      <td>10496.85</td>\n",
       "      <td>10496.85</td>\n",
       "      <td>2904.24</td>\n",
       "      <td>2904.24</td>\n",
       "      <td>703.15</td>\n",
       "      <td>2201.09</td>\n",
       "      <td>0.0</td>\n",
       "      <td>0.0</td>\n",
       "      <td>0.0</td>\n",
       "      <td>Dec-2018</td>\n",
       "      <td>367.82</td>\n",
       "      <td>Jan-2019</td>\n",
       "      <td>Dec-2018</td>\n",
       "      <td>Joint App</td>\n",
       "      <td>0.0</td>\n",
       "      <td>0.0</td>\n",
       "      <td>67173.0</td>\n",
       "      <td>1.0</td>\n",
       "      <td>1.0</td>\n",
       "      <td>4.0</td>\n",
       "      <td>8.0</td>\n",
       "      <td>65647.0</td>\n",
       "      <td>1.0</td>\n",
       "      <td>1.0</td>\n",
       "      <td>1011.0</td>\n",
       "      <td>84.0</td>\n",
       "      <td>6200.0</td>\n",
       "      <td>8.0</td>\n",
       "      <td>1.0</td>\n",
       "      <td>10.0</td>\n",
       "      <td>5.0</td>\n",
       "      <td>8397.0</td>\n",
       "      <td>632.0</td>\n",
       "      <td>66.7</td>\n",
       "      <td>0.0</td>\n",
       "      <td>124.0</td>\n",
       "      <td>128.0</td>\n",
       "      <td>5.0</td>\n",
       "      <td>5.0</td>\n",
       "      <td>34.0</td>\n",
       "      <td>0.0</td>\n",
       "      <td>1.0</td>\n",
       "      <td>2.0</td>\n",
       "      <td>3.0</td>\n",
       "      <td>2.0</td>\n",
       "      <td>3.0</td>\n",
       "      <td>8.0</td>\n",
       "      <td>4.0</td>\n",
       "      <td>3.0</td>\n",
       "      <td>8.0</td>\n",
       "      <td>0.0</td>\n",
       "      <td>0.0</td>\n",
       "      <td>2.0</td>\n",
       "      <td>71.4</td>\n",
       "      <td>0.0</td>\n",
       "      <td>0.0</td>\n",
       "      <td>0.0</td>\n",
       "      <td>80367.0</td>\n",
       "      <td>67173.0</td>\n",
       "      <td>1900.0</td>\n",
       "      <td>74167.0</td>\n",
       "      <td>N</td>\n",
       "      <td>Cash</td>\n",
       "      <td>N</td>\n",
       "      <td>0.0</td>\n",
       "      <td>0.0</td>\n",
       "      <td>0.0</td>\n",
       "      <td>True</td>\n",
       "      <td>81000.0</td>\n",
       "      <td>Not Verified</td>\n",
       "      <td>31.94</td>\n",
       "      <td>7101.0</td>\n",
       "      <td>0.0</td>\n",
       "      <td>1.0</td>\n",
       "      <td>2.5</td>\n",
       "      <td>0.5</td>\n",
       "      <td>7.0</td>\n",
       "      <td>11.0</td>\n",
       "      <td>7.5</td>\n",
       "      <td>2000</td>\n",
       "      <td>88.512411</td>\n",
       "    </tr>\n",
       "  </tbody>\n",
       "</table>\n",
       "</div>"
      ],
      "text/plain": [
       "   loan_amnt  funded_amnt  funded_amnt_inv        term int_rate  installment  \\\n",
       "0    10000.0      10000.0          10000.0   60 months   14.07%       233.05   \n",
       "1     2600.0       2600.0           2600.0   36 months    7.96%        81.43   \n",
       "2    10000.0      10000.0          10000.0   36 months    6.07%       304.54   \n",
       "3    10000.0      10000.0          10000.0   36 months    7.96%       313.18   \n",
       "4    11200.0      11200.0          11200.0   60 months   30.79%       367.82   \n",
       "\n",
       "  grade sub_grade  emp_title emp_length home_ownership   issue_d loan_status  \\\n",
       "0     C        C3    teacher    4 years           RENT  Mar-2018     Current   \n",
       "1     A        A5   minority    3 years       MORTGAGE  Mar-2018     Current   \n",
       "2     A        A2   director  10+ years            OWN  Mar-2018     Current   \n",
       "3     A        A5  assistant    2 years           RENT  Mar-2018     Current   \n",
       "4     G        G1   minority   < 1 year           RENT  Mar-2018     Current   \n",
       "\n",
       "  pymnt_plan         purpose                    title zip_code addr_state  \\\n",
       "0          n  major_purchase           Major purchase    341xx         FL   \n",
       "1          n           other                    Other    481xx         MI   \n",
       "2          n           house              Home buying    117xx         NY   \n",
       "3          n     credit_card  Credit card refinancing    606xx         IL   \n",
       "4          n         medical         Medical expenses    030xx         NH   \n",
       "\n",
       "   delinq_2yrs  mths_since_last_delinq  pub_rec  total_acc  \\\n",
       "0          0.0                    32.0      0.0       34.0   \n",
       "1          0.0                     0.0      0.0        9.0   \n",
       "2          0.0                     0.0      0.0       25.0   \n",
       "3          0.0                     0.0      0.0       19.0   \n",
       "4          1.0                     6.0      0.0       14.0   \n",
       "\n",
       "  initial_list_status  out_prncp  out_prncp_inv  total_pymnt  total_pymnt_inv  \\\n",
       "0                   w    9035.79        9035.79      1897.19          1897.19   \n",
       "1                   w    2074.45        2074.45       649.14           649.14   \n",
       "2                   w    7932.01        7932.01      2429.58          2429.58   \n",
       "3                   w    7878.77        7878.77      2596.60          2596.60   \n",
       "4                   w   10496.85       10496.85      2904.24          2904.24   \n",
       "\n",
       "   total_rec_prncp  total_rec_int  total_rec_late_fee  recoveries  \\\n",
       "0           964.21         932.98                 0.0         0.0   \n",
       "1           525.55         123.59                 0.0         0.0   \n",
       "2          2067.99         361.59                 0.0         0.0   \n",
       "3          2121.23         475.37                 0.0         0.0   \n",
       "4           703.15        2201.09                 0.0         0.0   \n",
       "\n",
       "   collection_recovery_fee last_pymnt_d  last_pymnt_amnt next_pymnt_d  \\\n",
       "0                      0.0     Dec-2018           233.05     Jan-2019   \n",
       "1                      0.0     Dec-2018            81.43     Jan-2019   \n",
       "2                      0.0     Dec-2018           304.54     Jan-2019   \n",
       "3                      0.0     Dec-2018           413.18     Jan-2019   \n",
       "4                      0.0     Dec-2018           367.82     Jan-2019   \n",
       "\n",
       "  last_credit_pull_d application_type  acc_now_delinq  tot_coll_amt  \\\n",
       "0           Dec-2018       Individual             0.0           0.0   \n",
       "1           Dec-2018       Individual             0.0           0.0   \n",
       "2           Dec-2018       Individual             0.0           0.0   \n",
       "3           Dec-2018       Individual             0.0           0.0   \n",
       "4           Dec-2018        Joint App             0.0           0.0   \n",
       "\n",
       "   tot_cur_bal  open_acc_6m  open_il_12m  open_il_24m  mths_since_rcnt_il  \\\n",
       "0      93913.0          0.0          0.0          0.0                54.0   \n",
       "1     241067.0          0.0          0.0          0.0                34.0   \n",
       "2     318464.0          0.0          0.0          3.0                16.0   \n",
       "3     150009.0          0.0          0.0          0.0                46.0   \n",
       "4      67173.0          1.0          1.0          4.0                 8.0   \n",
       "\n",
       "   total_bal_il  open_rv_12m  open_rv_24m  max_bal_bc  all_util  \\\n",
       "0       93206.0          0.0          1.0       707.0     111.0   \n",
       "1       56811.0          0.0          1.0      7283.0      56.0   \n",
       "2       10051.0          0.0          2.0      3634.0      17.0   \n",
       "3      138429.0          0.0          2.0      3826.0      43.0   \n",
       "4       65647.0          1.0          1.0      1011.0      84.0   \n",
       "\n",
       "   total_rev_hi_lim  inq_fi  total_cu_tl  inq_last_12m  acc_open_past_24mths  \\\n",
       "0            4500.0     0.0          0.0           0.0                   1.0   \n",
       "1           15800.0     0.0          0.0           0.0                   1.0   \n",
       "2           60900.0     1.0          1.0           0.0                   5.0   \n",
       "3           26800.0     0.0          1.0           1.0                   2.0   \n",
       "4            6200.0     8.0          1.0          10.0                   5.0   \n",
       "\n",
       "   avg_cur_bal  bc_open_to_buy  bc_util  delinq_amnt  mo_sin_old_il_acct  \\\n",
       "0       5524.0          3793.0     15.7          0.0               161.0   \n",
       "1      30133.0           588.0     94.4          0.0                79.0   \n",
       "2      28951.0         42115.0     14.1          0.0                68.0   \n",
       "3      13637.0          2161.0     70.4          0.0               119.0   \n",
       "4       8397.0           632.0     66.7          0.0               124.0   \n",
       "\n",
       "   mo_sin_old_rev_tl_op  mo_sin_rcnt_rev_tl_op  mo_sin_rcnt_tl  \\\n",
       "0                  88.0                   18.0            18.0   \n",
       "1                  64.0                   19.0            19.0   \n",
       "2                 288.0                   17.0            16.0   \n",
       "3                 160.0                   16.0            16.0   \n",
       "4                 128.0                    5.0             5.0   \n",
       "\n",
       "   mths_since_recent_bc  mths_since_recent_inq  num_accts_ever_120_pd  \\\n",
       "0                  18.0                   18.0                   14.0   \n",
       "1                  45.0                    6.0                    0.0   \n",
       "2                  17.0                   16.0                    0.0   \n",
       "3                  38.0                    2.0                    0.0   \n",
       "4                  34.0                    0.0                    1.0   \n",
       "\n",
       "   num_actv_bc_tl  num_actv_rev_tl  num_bc_sats  num_bc_tl  num_il_tl  \\\n",
       "0             1.0              1.0          2.0        4.0       30.0   \n",
       "1             2.0              4.0          2.0        2.0        3.0   \n",
       "2             2.0              2.0          5.0        9.0        4.0   \n",
       "3             2.0              7.0          2.0        4.0        4.0   \n",
       "4             2.0              3.0          2.0        3.0        8.0   \n",
       "\n",
       "   num_op_rev_tl  num_rev_tl_bal_gt_0  num_sats  num_tl_30dpd  \\\n",
       "0            2.0                  1.0      17.0           0.0   \n",
       "1            5.0                  4.0       8.0           0.0   \n",
       "2            9.0                  2.0      12.0           0.0   \n",
       "3           10.0                  7.0      12.0           0.0   \n",
       "4            4.0                  3.0       8.0           0.0   \n",
       "\n",
       "   num_tl_90g_dpd_24m  num_tl_op_past_12m  pct_tl_nvr_dlq  percent_bc_gt_75  \\\n",
       "0                 0.0                 0.0            43.8               0.0   \n",
       "1                 0.0                 0.0           100.0             100.0   \n",
       "2                 0.0                 0.0           100.0               0.0   \n",
       "3                 0.0                 0.0           100.0              50.0   \n",
       "4                 0.0                 2.0            71.4               0.0   \n",
       "\n",
       "   pub_rec_bankruptcies  tax_liens  tot_hi_cred_lim  total_bal_ex_mort  \\\n",
       "0                   0.0        0.0          84930.0            93913.0   \n",
       "1                   0.0        0.0         259780.0            68587.0   \n",
       "2                   0.0        0.0         434276.0            16936.0   \n",
       "3                   0.0        0.0         148048.0           150009.0   \n",
       "4                   0.0        0.0          80367.0            67173.0   \n",
       "\n",
       "   total_bc_limit  total_il_high_credit_limit hardship_flag  \\\n",
       "0          4500.0                     80430.0             N   \n",
       "1         10500.0                     62185.0             N   \n",
       "2         49000.0                     37376.0             N   \n",
       "3          7300.0                    121248.0             N   \n",
       "4          1900.0                     74167.0             N   \n",
       "\n",
       "  disbursement_method debt_settlement_flag  settlement_amount  \\\n",
       "0                Cash                    N                0.0   \n",
       "1                Cash                    N                0.0   \n",
       "2                Cash                    N                0.0   \n",
       "3                Cash                    N                0.0   \n",
       "4                Cash                    N                0.0   \n",
       "\n",
       "   settlement_percentage  settlement_term  is_hardship  annual_inc_new  \\\n",
       "0                    0.0              0.0         True         42000.0   \n",
       "1                    0.0              0.0         True         62000.0   \n",
       "2                    0.0              0.0         True        175000.0   \n",
       "3                    0.0              0.0         True         85000.0   \n",
       "4                    0.0              0.0         True         81000.0   \n",
       "\n",
       "  verification_status_new  dti_new  revol_bal_new  \\\n",
       "0         Source Verified    24.69          707.0   \n",
       "1            Not Verified    19.61        11776.0   \n",
       "2         Source Verified     4.94         6885.0   \n",
       "3            Not Verified     7.67        11580.0   \n",
       "4            Not Verified    31.94         7101.0   \n",
       "\n",
       "   chargeoff_within_12_mths_new  collections_12_mths_ex_med_new  \\\n",
       "0                           0.0                             0.0   \n",
       "1                           0.0                             0.0   \n",
       "2                           0.0                             0.0   \n",
       "3                           0.0                             0.0   \n",
       "4                           0.0                             1.0   \n",
       "\n",
       "   inq_last_6mths_new  mort_acc_new  num_rev_accts_new  open_acc_new  \\\n",
       "0                 0.0           0.0                4.0          17.0   \n",
       "1                 0.0           1.0                5.0           8.0   \n",
       "2                 0.0           5.0               16.0          12.0   \n",
       "3                 0.0           0.0               15.0          12.0   \n",
       "4                 2.5           0.5                7.0          11.0   \n",
       "\n",
       "   open_act_il_new  earliest_cr_line_new   il_util_2  \n",
       "0             15.0                  2000  115.884620  \n",
       "1              2.0                  2010   91.358045  \n",
       "2              2.0                  1990   26.891588  \n",
       "3              2.0                  2000  114.170131  \n",
       "4              7.5                  2000   88.512411  "
      ]
     },
     "execution_count": 3,
     "metadata": {},
     "output_type": "execute_result"
    }
   ],
   "source": [
    "loan_model.head()"
   ]
  },
  {
   "cell_type": "code",
   "execution_count": 4,
   "metadata": {},
   "outputs": [
    {
     "data": {
      "text/plain": [
       "(107864, 104)"
      ]
     },
     "execution_count": 4,
     "metadata": {},
     "output_type": "execute_result"
    }
   ],
   "source": [
    "loan_model.shape"
   ]
  },
  {
   "cell_type": "markdown",
   "metadata": {},
   "source": [
    "# Feature Transformation"
   ]
  },
  {
   "cell_type": "markdown",
   "metadata": {},
   "source": [
    "## Target: interest rate"
   ]
  },
  {
   "cell_type": "markdown",
   "metadata": {},
   "source": [
    "First, we convert int_rate into corresponding numerical value. "
   ]
  },
  {
   "cell_type": "code",
   "execution_count": 5,
   "metadata": {},
   "outputs": [],
   "source": [
    "loan_model['int_rate'] = loan_model['int_rate'].apply(lambda x: float(x[:-1]))"
   ]
  },
  {
   "cell_type": "markdown",
   "metadata": {},
   "source": [
    "## Categorical with Multiple Levels"
   ]
  },
  {
   "cell_type": "markdown",
   "metadata": {},
   "source": [
    "Let's see how many levels are there for each categorical variable."
   ]
  },
  {
   "cell_type": "code",
   "execution_count": 6,
   "metadata": {},
   "outputs": [
    {
     "name": "stdout",
     "output_type": "stream",
     "text": [
      "term 2\n",
      "grade 7\n",
      "sub_grade 35\n",
      "emp_title 21\n",
      "emp_length 12\n",
      "home_ownership 4\n",
      "issue_d 3\n",
      "loan_status 7\n",
      "pymnt_plan 2\n",
      "purpose 13\n",
      "title 12\n",
      "zip_code 878\n",
      "addr_state 50\n",
      "initial_list_status 2\n",
      "last_pymnt_d 13\n",
      "next_pymnt_d 4\n",
      "last_credit_pull_d 14\n",
      "application_type 2\n",
      "hardship_flag 2\n",
      "disbursement_method 2\n",
      "debt_settlement_flag 2\n",
      "verification_status_new 3\n"
     ]
    }
   ],
   "source": [
    "for f in loan_model:\n",
    "    if loan_model[f].dtype == 'object':\n",
    "        print (f, len(loan_model[f].value_counts()))"
   ]
  },
  {
   "cell_type": "markdown",
   "metadata": {},
   "source": [
    "### sub_grade"
   ]
  },
  {
   "cell_type": "markdown",
   "metadata": {},
   "source": [
    "It has a strong correlation with feature \"grade\". To reduce multicollinearity, we remove sub_grade."
   ]
  },
  {
   "cell_type": "code",
   "execution_count": 7,
   "metadata": {},
   "outputs": [
    {
     "data": {
      "text/plain": [
       "B    32482\n",
       "C    28747\n",
       "A    26769\n",
       "D    15377\n",
       "E     3691\n",
       "F      682\n",
       "G      116\n",
       "Name: grade, dtype: int64"
      ]
     },
     "execution_count": 7,
     "metadata": {},
     "output_type": "execute_result"
    }
   ],
   "source": [
    "loan_model['grade'].value_counts()"
   ]
  },
  {
   "cell_type": "code",
   "execution_count": 8,
   "metadata": {
    "scrolled": true
   },
   "outputs": [
    {
     "data": {
      "text/plain": [
       "B5    6974\n",
       "B1    6933\n",
       "B2    6759\n",
       "C1    6458\n",
       "A4    6198\n",
       "B3    5924\n",
       "B4    5892\n",
       "C3    5787\n",
       "C2    5761\n",
       "A3    5688\n",
       "C4    5669\n",
       "A5    5321\n",
       "C5    5072\n",
       "A2    5052\n",
       "A1    4510\n",
       "D1    3479\n",
       "D2    3329\n",
       "D3    3164\n",
       "D4    2796\n",
       "D5    2609\n",
       "E3     863\n",
       "E5     838\n",
       "E2     805\n",
       "E4     732\n",
       "E1     453\n",
       "F1     397\n",
       "G1     102\n",
       "F3      79\n",
       "F2      78\n",
       "F4      65\n",
       "F5      63\n",
       "G4       5\n",
       "G2       5\n",
       "G3       3\n",
       "G5       1\n",
       "Name: sub_grade, dtype: int64"
      ]
     },
     "execution_count": 8,
     "metadata": {},
     "output_type": "execute_result"
    }
   ],
   "source": [
    "loan_model['sub_grade'].value_counts()"
   ]
  },
  {
   "cell_type": "code",
   "execution_count": 9,
   "metadata": {},
   "outputs": [],
   "source": [
    "loan_model.drop(['sub_grade'], axis=1, inplace=True)"
   ]
  },
  {
   "cell_type": "markdown",
   "metadata": {},
   "source": [
    "### zip_code"
   ]
  },
  {
   "cell_type": "markdown",
   "metadata": {},
   "source": [
    "The `zip_code` variable has too many levels. To solve this problem, we choose first and last character of its original zip code as current one. "
   ]
  },
  {
   "cell_type": "markdown",
   "metadata": {},
   "source": [
    "<img src=\"./test/zip_code_map.png\">"
   ]
  },
  {
   "cell_type": "code",
   "execution_count": 10,
   "metadata": {},
   "outputs": [],
   "source": [
    "loan_model['zip_code'] = loan_model['zip_code'].apply(lambda x: x[0]+x[-1])"
   ]
  },
  {
   "cell_type": "markdown",
   "metadata": {},
   "source": [
    "### addr_state"
   ]
  },
  {
   "cell_type": "markdown",
   "metadata": {},
   "source": [
    "It is not important, as we already have some location-based features. So we just remove it."
   ]
  },
  {
   "cell_type": "code",
   "execution_count": 11,
   "metadata": {},
   "outputs": [],
   "source": [
    "loan_model.drop(['addr_state'], axis=1, inplace=True)"
   ]
  },
  {
   "cell_type": "markdown",
   "metadata": {},
   "source": [
    "# Correlations"
   ]
  },
  {
   "cell_type": "markdown",
   "metadata": {},
   "source": [
    "## Heatmap"
   ]
  },
  {
   "cell_type": "markdown",
   "metadata": {},
   "source": [
    "Let's first see the correlation coefficients and heatmap of all the numerical variables. This will provide you some information about the relationship between numerical variables and target."
   ]
  },
  {
   "cell_type": "code",
   "execution_count": 12,
   "metadata": {
    "scrolled": true
   },
   "outputs": [
    {
     "name": "stdout",
     "output_type": "stream",
     "text": [
      "int_rate                 1.000000\n",
      "total_rec_int            0.495689\n",
      "all_util                 0.357212\n",
      "bc_util                  0.354577\n",
      "percent_bc_gt_75         0.344463\n",
      "dti_new                  0.211587\n",
      "inq_last_6mths_new       0.136750\n",
      "inq_last_12m             0.136068\n",
      "open_il_24m              0.129494\n",
      "acc_open_past_24mths     0.128719\n",
      "inq_fi                   0.128484\n",
      "num_tl_op_past_12m       0.125399\n",
      "open_il_12m              0.124403\n",
      "open_acc_6m              0.105117\n",
      "il_util_2                0.104975\n",
      "delinq_2yrs              0.100710\n",
      "earliest_cr_line_new     0.098554\n",
      "open_rv_24m              0.091570\n",
      "num_actv_rev_tl          0.090398\n",
      "num_rev_tl_bal_gt_0      0.089304\n",
      "open_rv_12m              0.085210\n",
      "num_accts_ever_120_pd    0.068531\n",
      "installment              0.068077\n",
      "pub_rec_bankruptcies     0.058509\n",
      "total_rec_late_fee       0.054283\n",
      "num_tl_90g_dpd_24m       0.051774\n",
      "pub_rec                  0.049774\n",
      "recoveries               0.047076\n",
      "total_pymnt_inv          0.046990\n",
      "total_pymnt              0.046887\n",
      "                           ...   \n",
      "num_tl_30dpd             0.008240\n",
      "acc_now_delinq           0.008118\n",
      "tot_coll_amt             0.006936\n",
      "total_cu_tl              0.004079\n",
      "delinq_amnt              0.000649\n",
      "num_sats                -0.015121\n",
      "open_acc_new            -0.015478\n",
      "num_op_rev_tl           -0.029791\n",
      "max_bal_bc              -0.039730\n",
      "total_acc               -0.046057\n",
      "mo_sin_old_il_acct      -0.046130\n",
      "total_rec_prncp         -0.054262\n",
      "mths_since_recent_bc    -0.055607\n",
      "mo_sin_rcnt_rev_tl_op   -0.066952\n",
      "annual_inc_new          -0.067525\n",
      "num_rev_accts_new       -0.069073\n",
      "num_bc_sats             -0.071885\n",
      "mths_since_rcnt_il      -0.072593\n",
      "avg_cur_bal             -0.077943\n",
      "tot_cur_bal             -0.080775\n",
      "mo_sin_rcnt_tl          -0.084320\n",
      "mths_since_recent_inq   -0.088018\n",
      "num_bc_tl               -0.105181\n",
      "pct_tl_nvr_dlq          -0.117273\n",
      "mort_acc_new            -0.127649\n",
      "tot_hi_cred_lim         -0.130786\n",
      "mo_sin_old_rev_tl_op    -0.136061\n",
      "total_rev_hi_lim        -0.224442\n",
      "total_bc_limit          -0.267028\n",
      "bc_open_to_buy          -0.341267\n",
      "Name: int_rate, Length: 81, dtype: float64\n"
     ]
    }
   ],
   "source": [
    "# get correlation of all numerical variables\n",
    "correlation = loan_model.select_dtypes(include = [np.number]).corr()\n",
    "print(correlation['int_rate'].sort_values(ascending = False))"
   ]
  },
  {
   "cell_type": "code",
   "execution_count": 76,
   "metadata": {},
   "outputs": [
    {
     "data": {
      "image/png": "[encoded data removed]",
      "text/plain": [
       "<Figure size 864x720 with 2 Axes>"
      ]
     },
     "metadata": {
      "needs_background": "light"
     },
     "output_type": "display_data"
    }
   ],
   "source": [
    "# heatmap in seaborn\n",
    "plt.figure(figsize = (12,10))\n",
    "plt.title('Correlation of numeric features',size=12)\n",
    "sns.heatmap(correlation, square = True, vmax = 0.8, cmap = 'viridis')\n",
    "plt.show()"
   ]
  },
  {
   "cell_type": "markdown",
   "metadata": {},
   "source": [
    "## Boxplot"
   ]
  },
  {
   "cell_type": "markdown",
   "metadata": {},
   "source": [
    "Second, let's see the boxplot. This will give you some insights about the relationship between categorical variables and the target."
   ]
  },
  {
   "cell_type": "code",
   "execution_count": 14,
   "metadata": {},
   "outputs": [
    {
     "data": {
      "image/png": "[encoded data removed]",
      "text/plain": [
       "<Figure size 864x576 with 1 Axes>"
      ]
     },
     "metadata": {
      "needs_background": "light"
     },
     "output_type": "display_data"
    }
   ],
   "source": [
    "# boxplot of interest rate grouped by zip code\n",
    "loan_model.boxplot(column='int_rate', by='zip_code', figsize=(12,8))\n",
    "plt.show()"
   ]
  },
  {
   "cell_type": "code",
   "execution_count": 15,
   "metadata": {},
   "outputs": [
    {
     "data": {
      "image/png": "[encoded data removed]",
      "text/plain": [
       "<Figure size 864x576 with 1 Axes>"
      ]
     },
     "metadata": {
      "needs_background": "light"
     },
     "output_type": "display_data"
    }
   ],
   "source": [
    "# group by grade\n",
    "loan_model.boxplot(column='int_rate', by='grade', figsize=(12,8))\n",
    "plt.show()"
   ]
  },
  {
   "cell_type": "code",
   "execution_count": 16,
   "metadata": {},
   "outputs": [
    {
     "data": {
      "image/png": "[encoded data removed]",
      "text/plain": [
       "<Figure size 864x576 with 1 Axes>"
      ]
     },
     "metadata": {
      "needs_background": "light"
     },
     "output_type": "display_data"
    }
   ],
   "source": [
    "# grouped by loan status\n",
    "loan_model.boxplot(column='int_rate', by='loan_status', figsize=(12,8))\n",
    "plt.show()"
   ]
  },
  {
   "cell_type": "markdown",
   "metadata": {},
   "source": [
    "We should exclude other response-related features that might have extremely high correlation with interest rate. "
   ]
  },
  {
   "cell_type": "code",
   "execution_count": 17,
   "metadata": {},
   "outputs": [],
   "source": [
    "loan_model.drop(['loan_status','grade'], axis=1, inplace=True)"
   ]
  },
  {
   "cell_type": "markdown",
   "metadata": {},
   "source": [
    "# Model Training"
   ]
  },
  {
   "cell_type": "markdown",
   "metadata": {},
   "source": [
    "## Get dummy"
   ]
  },
  {
   "cell_type": "code",
   "execution_count": 18,
   "metadata": {},
   "outputs": [],
   "source": [
    "# extract categorical variables\n",
    "dummy_columns = [x for x in loan_model if loan_model[x].dtype == 'object']"
   ]
  },
  {
   "cell_type": "code",
   "execution_count": 19,
   "metadata": {},
   "outputs": [
    {
     "name": "stdout",
     "output_type": "stream",
     "text": [
      "(107864, 100)\n",
      "(107864, 205)\n"
     ]
    }
   ],
   "source": [
    "# before dummy\n",
    "print (loan_model.shape)\n",
    "\n",
    "# get dummies\n",
    "loan_model = pd.get_dummies(loan_model, columns = dummy_columns)\n",
    "\n",
    "# after dummy\n",
    "print (loan_model.shape)"
   ]
  },
  {
   "cell_type": "markdown",
   "metadata": {},
   "source": [
    "## Split train and test"
   ]
  },
  {
   "cell_type": "code",
   "execution_count": 20,
   "metadata": {},
   "outputs": [],
   "source": [
    "x = loan_model[loan_model.columns.difference(['int_rate'])]\n",
    "y = loan_model['int_rate'].values\n",
    "\n",
    "# Split data into train and test (80% & 20%)\n",
    "x_train, x_test, y_train, y_test = train_test_split(\n",
    "    x, y, test_size = 0.2, random_state = 42)"
   ]
  },
  {
   "cell_type": "markdown",
   "metadata": {},
   "source": [
    "## Standardization"
   ]
  },
  {
   "cell_type": "code",
   "execution_count": 21,
   "metadata": {},
   "outputs": [],
   "source": [
    "from sklearn.preprocessing import StandardScaler\n",
    "\n",
    "# initialize a scaler object\n",
    "scaler = StandardScaler()\n",
    "\n",
    "# transform training set\n",
    "x_train_std = scaler.fit_transform(x_train)\n",
    "\n",
    "# the same transform for test set\n",
    "x_test_std = scaler.transform(x_test)"
   ]
  },
  {
   "cell_type": "code",
   "execution_count": 22,
   "metadata": {},
   "outputs": [],
   "source": [
    "# transform whole dataset \n",
    "X = scaler.fit_transform(x)"
   ]
  },
  {
   "cell_type": "markdown",
   "metadata": {},
   "source": [
    "## Modeling"
   ]
  },
  {
   "cell_type": "markdown",
   "metadata": {},
   "source": [
    "In this section, we propose four linear models: Linear Regression, Ridge Regression, Lasso Regression and Elastic Net. We use **cross validation** to tune the hyperparameter for each model (except Linear Regression, since it has no hyperparameter). That is, for each linear model, we derive an optimal set of hyperparameters. To evaluate the optimal model, we choose average RMSE score from cross validation."
   ]
  },
  {
   "cell_type": "code",
   "execution_count": 23,
   "metadata": {},
   "outputs": [],
   "source": [
    "# some necessary packages\n",
    "from sklearn.model_selection import cross_val_score, KFold\n",
    "from sklearn.linear_model import LinearRegression, Ridge, RidgeCV, Lasso, LassoCV, ElasticNet, ElasticNetCV"
   ]
  },
  {
   "cell_type": "code",
   "execution_count": 24,
   "metadata": {},
   "outputs": [],
   "source": [
    "# Function to evaluate the model using AIC with sum of squared error\n",
    "def model_evaluation(model, x, y, cv):\n",
    "    \n",
    "    kf = KFold(n_splits = cv)\n",
    "    AIC = 0\n",
    "    rmse = 0\n",
    "    mae = 0\n",
    "    for train_index, validate_index in kf.split(x):\n",
    "        \n",
    "        # split to training and validation set\n",
    "        x_train, x_validate = x[train_index], x[validate_index]\n",
    "        y_train, y_validate = y[train_index], y[validate_index]\n",
    "        \n",
    "        # fit current model\n",
    "        model.fit(x_train, y_train)\n",
    "        # predict on validation set\n",
    "        y_pred = model.predict(x_validate)\n",
    "        # calculate sse\n",
    "        sse = np.sum((y_pred - y_validate)**2)\n",
    "        # number of observations\n",
    "        n = len(x_train)\n",
    "        # number of existing features\n",
    "        k = len([x for x in model.coef_ if x != 0])\n",
    "        \n",
    "        # aic\n",
    "        AIC += 2 * k - 2 * np.log(sse)\n",
    "        # rmse\n",
    "        rmse += np.sqrt(np.mean((y_pred - y_validate)**2))\n",
    "        # mae \n",
    "        mae += np.mean(abs(y_pred - y_validate))\n",
    "        \n",
    "    # return average score among all validation sets\n",
    "    return AIC / cv, rmse / cv, mae / cv"
   ]
  },
  {
   "cell_type": "markdown",
   "metadata": {},
   "source": [
    "### Model Selection"
   ]
  },
  {
   "cell_type": "code",
   "execution_count": 25,
   "metadata": {
    "scrolled": true
   },
   "outputs": [
    {
     "name": "stdout",
     "output_type": "stream",
     "text": [
      "Training... LinearRegression(copy_X=True, fit_intercept=True, n_jobs=None,\n",
      "         normalize=False)\n",
      "Running time is 6.56 seconds\n",
      "================================================================\n",
      "Training... Ridge(alpha=0.1, copy_X=True, fit_intercept=True, max_iter=None,\n",
      "   normalize=False, random_state=None, solver='auto', tol=0.001)\n",
      "Running time is 1.90 seconds\n",
      "================================================================\n",
      "Training... Lasso(alpha=0.001, copy_X=True, fit_intercept=True, max_iter=1000,\n",
      "   normalize=False, positive=False, precompute=False, random_state=None,\n",
      "   selection='cyclic', tol=0.0001, warm_start=False)\n",
      "Running time is 55.54 seconds\n",
      "================================================================\n",
      "Training... ElasticNet(alpha=0.001, copy_X=True, fit_intercept=True, l1_ratio=0.5,\n",
      "      max_iter=1000, normalize=False, positive=False, precompute=False,\n",
      "      random_state=None, selection='cyclic', tol=0.0001, warm_start=False)\n",
      "Running time is 79.30 seconds\n",
      "================================================================\n"
     ]
    }
   ],
   "source": [
    "# initialize a model object\n",
    "LinearReg = LinearRegression(fit_intercept=True, normalize=False, copy_X=True, n_jobs=None)\n",
    "RidgeReg = Ridge(alpha = 0.1)\n",
    "LassoReg = Lasso(alpha = 0.001)\n",
    "ElasticnetReg = ElasticNet(alpha = 0.001, l1_ratio = 0.5)\n",
    "\n",
    "res_dict = {}\n",
    "for model in [LinearReg, RidgeReg, LassoReg, ElasticnetReg]:\n",
    "    print (\"Training...\", model)\n",
    "    start = time.time()\n",
    "    aic, rmse, mae = model_evaluation(model, x_train_std, y_train, 10)\n",
    "    end = time.time()\n",
    "    diff = end-start\n",
    "    print (\"Running time is %.2f seconds\"%diff)\n",
    "    print (\"================================================================\")\n",
    "    res_dict[model] = [round(aic,4), round(rmse,4), round(mae,4), diff]"
   ]
  },
  {
   "cell_type": "code",
   "execution_count": 26,
   "metadata": {},
   "outputs": [
    {
     "data": {
      "text/html": [
       "<div>\n",
       "<style scoped>\n",
       "    .dataframe tbody tr th:only-of-type {\n",
       "        vertical-align: middle;\n",
       "    }\n",
       "\n",
       "    .dataframe tbody tr th {\n",
       "        vertical-align: top;\n",
       "    }\n",
       "\n",
       "    .dataframe thead th {\n",
       "        text-align: right;\n",
       "    }\n",
       "</style>\n",
       "<table border=\"1\" class=\"dataframe\">\n",
       "  <thead>\n",
       "    <tr style=\"text-align: right;\">\n",
       "      <th></th>\n",
       "      <th>aic</th>\n",
       "      <th>rmse</th>\n",
       "      <th>mae</th>\n",
       "      <th>time</th>\n",
       "    </tr>\n",
       "  </thead>\n",
       "  <tbody>\n",
       "    <tr>\n",
       "      <th>LinearRegression(copy_X=True, fit_intercept=True, n_jobs=None,\\n         normalize=False)</th>\n",
       "      <td>386.4700</td>\n",
       "      <td>2.3422</td>\n",
       "      <td>1.7343</td>\n",
       "      <td>6.561022</td>\n",
       "    </tr>\n",
       "    <tr>\n",
       "      <th>Ridge(alpha=0.1, copy_X=True, fit_intercept=True, max_iter=None,\\n   normalize=False, random_state=None, solver='auto', tol=0.001)</th>\n",
       "      <td>384.4693</td>\n",
       "      <td>2.3426</td>\n",
       "      <td>1.7339</td>\n",
       "      <td>1.898296</td>\n",
       "    </tr>\n",
       "    <tr>\n",
       "      <th>Lasso(alpha=0.001, copy_X=True, fit_intercept=True, max_iter=1000,\\n   normalize=False, positive=False, precompute=False, random_state=None,\\n   selection='cyclic', tol=0.0001, warm_start=False)</th>\n",
       "      <td>325.4531</td>\n",
       "      <td>2.3522</td>\n",
       "      <td>1.7420</td>\n",
       "      <td>55.539544</td>\n",
       "    </tr>\n",
       "    <tr>\n",
       "      <th>ElasticNet(alpha=0.001, copy_X=True, fit_intercept=True, l1_ratio=0.5,\\n      max_iter=1000, normalize=False, positive=False, precompute=False,\\n      random_state=None, selection='cyclic', tol=0.0001, warm_start=False)</th>\n",
       "      <td>345.8526</td>\n",
       "      <td>2.3524</td>\n",
       "      <td>1.7423</td>\n",
       "      <td>79.300141</td>\n",
       "    </tr>\n",
       "  </tbody>\n",
       "</table>\n",
       "</div>"
      ],
      "text/plain": [
       "                                                         aic    rmse     mae  \\\n",
       "LinearRegression(copy_X=True, fit_intercept=Tru...  386.4700  2.3422  1.7343   \n",
       "Ridge(alpha=0.1, copy_X=True, fit_intercept=Tru...  384.4693  2.3426  1.7339   \n",
       "Lasso(alpha=0.001, copy_X=True, fit_intercept=T...  325.4531  2.3522  1.7420   \n",
       "ElasticNet(alpha=0.001, copy_X=True, fit_interc...  345.8526  2.3524  1.7423   \n",
       "\n",
       "                                                         time  \n",
       "LinearRegression(copy_X=True, fit_intercept=Tru...   6.561022  \n",
       "Ridge(alpha=0.1, copy_X=True, fit_intercept=Tru...   1.898296  \n",
       "Lasso(alpha=0.001, copy_X=True, fit_intercept=T...  55.539544  \n",
       "ElasticNet(alpha=0.001, copy_X=True, fit_interc...  79.300141  "
      ]
     },
     "execution_count": 26,
     "metadata": {},
     "output_type": "execute_result"
    }
   ],
   "source": [
    "df = pd.DataFrame(res_dict).T\n",
    "df.columns = [\"aic\", \"rmse\", \"mae\", \"time\"]\n",
    "df"
   ]
  },
  {
   "cell_type": "markdown",
   "metadata": {},
   "source": [
    "### Ridge Regression"
   ]
  },
  {
   "cell_type": "markdown",
   "metadata": {},
   "source": [
    "Use [RidgeCV](https://scikit-learn.org/0.15/modules/generated/sklearn.linear_model.RidgeCV.html) function in sklearn.\n",
    "\n"
   ]
  },
  {
   "cell_type": "code",
   "execution_count": 33,
   "metadata": {},
   "outputs": [
    {
     "name": "stdout",
     "output_type": "stream",
     "text": [
      "The optimal value of alpha in Ridge Regression:  9.717775305059627e-05\n"
     ]
    }
   ],
   "source": [
    "np.random.seed(42)\n",
    "\n",
    "# candidate values of alpha\n",
    "alphas_ridge = sorted([10**r for r in np.random.uniform(-6,-3,size=100)])\n",
    "\n",
    "# initialize a model object\n",
    "RidgeReg = RidgeCV(alphas = alphas_ridge, store_cv_values=True)\n",
    "\n",
    "# train model\n",
    "RidgeReg.fit(x_train_std, y_train)\n",
    "\n",
    "# get optimal alpha \n",
    "rmse_cv_ridge = np.sqrt(RidgeReg.cv_values_.mean(axis = 0))\n",
    "optimal_alpha_ridge = RidgeReg.alpha_\n",
    "\n",
    "print (\"The optimal value of alpha in Ridge Regression: \", optimal_alpha_ridge)"
   ]
  },
  {
   "cell_type": "code",
   "execution_count": 34,
   "metadata": {},
   "outputs": [
    {
     "data": {
      "image/png": "[encoded data removed]",
      "text/plain": [
       "<Figure size 864x576 with 1 Axes>"
      ]
     },
     "metadata": {
      "needs_background": "light"
     },
     "output_type": "display_data"
    }
   ],
   "source": [
    "# plot root mean square error with the change of alpha\n",
    "plt.figure(figsize=(12,8))\n",
    "plt.plot(np.log10(alphas_ridge), rmse_cv_ridge, '--', color='b',\n",
    "             linewidth=3, label='Ridge Regression')\n",
    "plt.axvline(np.log10(optimal_alpha_ridge), linestyle='--', color='k',\n",
    "        label='Optimal alpha: CV estimate')\n",
    "plt.xlabel('log10(alpha)')\n",
    "plt.ylabel('root mean square error')\n",
    "plt.title('Cross Validation Results in Ridge Regression')\n",
    "plt.legend()\n",
    "plt.show()"
   ]
  },
  {
   "cell_type": "markdown",
   "metadata": {},
   "source": [
    "### LASSO Regression"
   ]
  },
  {
   "cell_type": "markdown",
   "metadata": {},
   "source": [
    "The [cross_val_score](https://scikit-learn.org/stable/modules/generated/sklearn.model_selection.cross_val_score.html) method in sklearn will help you tune hyperparameters by your own. Since it will run a long time, we comment these code here. If you are interested in hand-tuning for LASSO, you may uncomment the code and run it.\n",
    "\n"
   ]
  },
  {
   "cell_type": "code",
   "execution_count": 41,
   "metadata": {},
   "outputs": [],
   "source": [
    "# np.random.seed(42)\n",
    "\n",
    "# # Hands on tunning\n",
    "# alphas_lasso = sorted([10**r for r in np.random.uniform(-9,-6,size=10)])\n",
    "# rmse_lasso = []\n",
    "\n",
    "# for alpha in alphas_lasso:\n",
    "#     rmse = np.mean(np.sqrt(-cross_val_score(Lasso(alpha = alpha, random_state=42), \n",
    "#                                               x_train_std, \n",
    "#                                               y_train, \n",
    "#                                               scoring = \"neg_mean_squared_error\", \n",
    "#                                               cv = 3)))\n",
    "#     rmse_lasso.append(rmse)"
   ]
  },
  {
   "cell_type": "code",
   "execution_count": 42,
   "metadata": {},
   "outputs": [],
   "source": [
    "# plt.figure(figsize=(12,8))\n",
    "# plt.plot(np.log10(alphas), rmse_lasso, 'k',\n",
    "#              linewidth=2, label='Average across folds')\n",
    "# plt.xlabel('log10(alpha)')\n",
    "# plt.ylabel('root mean square error')\n",
    "# plt.title('Cross Validation Results in Lasso Regression by hand')\n",
    "# plt.legend()\n",
    "# plt.show()"
   ]
  },
  {
   "cell_type": "markdown",
   "metadata": {},
   "source": [
    "Alternatively, we can use [LassoCV](https://scikit-learn.org/0.15/modules/generated/sklearn.linear_model.LassoCV.html) to tune hyperparameter $\\alpha$, which is more efficient than hand tuning.\n",
    "\n"
   ]
  },
  {
   "cell_type": "code",
   "execution_count": 63,
   "metadata": {},
   "outputs": [
    {
     "name": "stderr",
     "output_type": "stream",
     "text": [
      "[Parallel(n_jobs=12)]: Using backend ThreadingBackend with 12 concurrent workers.\n",
      "............................................................................................................................................................................................................................................................................................................................................................................................................................................................................................................................................................................................................................................................................................................................................................................................................................................................................................................................................................................................................................................................................................................................................................................................................................................................................................................................................................................................................................................................................................................................................................[Parallel(n_jobs=12)]: Done   3 out of   3 | elapsed:   15.8s finished\n"
     ]
    },
    {
     "name": "stdout",
     "output_type": "stream",
     "text": [
      "The optimal value of alpha in Lasso Regression:  6.199100007802271e-09\n"
     ]
    }
   ],
   "source": [
    "np.random.seed(42)\n",
    "\n",
    "# LassoCV\n",
    "alphas = sorted([10**r for r in np.random.uniform(-10,-5,size=500)])\n",
    "# initialize a model object\n",
    "LassoReg = LassoCV(alphas = alphas, random_state=42, verbose=True, n_jobs=12)\n",
    "# train model\n",
    "LassoReg.fit(x_train_std, y_train)\n",
    "\n",
    "# print out optimal alpha \n",
    "rmse_cv_lasso = np.sqrt(LassoReg.mse_path_.mean(axis = -1))\n",
    "alphas_lasso = LassoReg.alphas_\n",
    "optimal_alpha_lasso = LassoReg.alpha_\n",
    "print (\"The optimal value of alpha in Lasso Regression: \", optimal_alpha_lasso)"
   ]
  },
  {
   "cell_type": "code",
   "execution_count": 64,
   "metadata": {},
   "outputs": [
    {
     "data": {
      "text/plain": [
       "array([-0.,  0.,  0.])"
      ]
     },
     "execution_count": 64,
     "metadata": {},
     "output_type": "execute_result"
    }
   ],
   "source": [
    "# check for 0 coefficients\n",
    "LassoReg.coef_[LassoReg.coef_==0]"
   ]
  },
  {
   "cell_type": "code",
   "execution_count": 65,
   "metadata": {},
   "outputs": [
    {
     "data": {
      "image/png": "[encoded data removed]",
      "text/plain": [
       "<Figure size 864x576 with 1 Axes>"
      ]
     },
     "metadata": {
      "needs_background": "light"
     },
     "output_type": "display_data"
    }
   ],
   "source": [
    "plt.figure(figsize=(12,8))\n",
    "plt.plot(np.log10(alphas_lasso), rmse_cv_lasso, 'k',\n",
    "             linewidth=2, label='Average across folds')\n",
    "plt.axvline(np.log10(optimal_alpha_lasso), linestyle='--', color='k',\n",
    "        label='Optimal alpha: CV estimate')\n",
    "plt.xlabel('log10(alpha)')\n",
    "plt.ylabel('root mean square error')\n",
    "plt.title('Cross Validation Results in Lasso Regression')\n",
    "plt.legend()\n",
    "plt.show()"
   ]
  },
  {
   "cell_type": "markdown",
   "metadata": {},
   "source": [
    "[Least Angle Regression](https://scikit-learn.org/stable/modules/generated/sklearn.linear_model.LassoLarsCV.html) solves the same problem as the LassoCV object. Unlike the LassoCV, it find the relevant alphas values by itself. In general, because of this property, it will be more stable. However, it is more fragile to heavily multicollinear datasets.\n",
    "\n",
    "LAR is efficient if only a small number of features are selected compared to the total number, for example if there are very few samples compared to the number of features.\n",
    "\n",
    "We will not get into details about LAR algorithm. There are some references that you could read through.\n",
    "\n",
    "* http://statweb.stanford.edu/~tibs/ftp/lars.pdf\n",
    "* https://scikit-learn.org/0.15/auto_examples/linear_model/plot_lasso_model_selection.html\n"
   ]
  },
  {
   "cell_type": "code",
   "execution_count": 51,
   "metadata": {},
   "outputs": [
    {
     "name": "stdout",
     "output_type": "stream",
     "text": [
      "The optimal value of alpha in LAR is:  0.0004667054342234034\n"
     ]
    }
   ],
   "source": [
    "# LassoLarsCV\n",
    "from sklearn.linear_model import LassoLarsCV\n",
    "\n",
    "# initialize a model object\n",
    "LassoLarsReg = LassoLarsCV(cv = 10)\n",
    "# train model\n",
    "LassoLarsReg.fit(x_train_std, y_train)\n",
    "# optimal alpha\n",
    "print (\"The optimal value of alpha in LAR is: \", LassoLarsReg.alpha_)"
   ]
  },
  {
   "cell_type": "code",
   "execution_count": 53,
   "metadata": {},
   "outputs": [
    {
     "data": {
      "text/plain": [
       "0.6815159187405389"
      ]
     },
     "execution_count": 53,
     "metadata": {},
     "output_type": "execute_result"
    }
   ],
   "source": [
    "# R-square\n",
    "LassoLarsReg.score(x_train_std, y_train)"
   ]
  },
  {
   "cell_type": "markdown",
   "metadata": {},
   "source": [
    "### Elastic Net"
   ]
  },
  {
   "cell_type": "markdown",
   "metadata": {},
   "source": [
    "[ElasticNetCV](https://scikit-learn.org/0.15/modules/generated/sklearn.linear_model.ElasticNetCV.html)."
   ]
  },
  {
   "cell_type": "code",
   "execution_count": 66,
   "metadata": {},
   "outputs": [
    {
     "name": "stdout",
     "output_type": "stream",
     "text": [
      "The optimal value of alpha in Lasso Regression:  1.105691566285647e-08\n"
     ]
    }
   ],
   "source": [
    "alphas_elasticnet = sorted([10**r for r in np.random.uniform(-8,-5,size=300)])\n",
    "ElasticNetReg = ElasticNetCV(alphas = alphas_elasticnet, l1_ratio = 0.5, n_jobs=-1)\n",
    "# train model\n",
    "ElasticNetReg.fit(x_train_std, y_train)\n",
    "\n",
    "# print out optimal alpha \n",
    "rmse_cv_elasticnet = np.sqrt(ElasticNetReg.mse_path_.mean(axis = -1))\n",
    "alphas_elasticnet = ElasticNetReg.alphas_\n",
    "optimal_alpha_elasticnet = ElasticNetReg.alpha_\n",
    "print (\"The optimal value of alpha in Lasso Regression: \", optimal_alpha_elasticnet)"
   ]
  },
  {
   "cell_type": "code",
   "execution_count": 67,
   "metadata": {},
   "outputs": [
    {
     "data": {
      "image/png": "[encoded data removed]",
      "text/plain": [
       "<Figure size 864x576 with 1 Axes>"
      ]
     },
     "metadata": {
      "needs_background": "light"
     },
     "output_type": "display_data"
    }
   ],
   "source": [
    "plt.figure(figsize=(12,8))\n",
    "plt.plot(np.log10(alphas_elasticnet), rmse_cv_elasticnet, 'k',\n",
    "             linewidth=2, label='Average across folds')\n",
    "plt.axvline(np.log10(optimal_alpha_elasticnet), linestyle='--', color='k',\n",
    "        label='Optimal alpha: CV estimate')\n",
    "plt.xlabel('log10(alpha)')\n",
    "plt.ylabel('root mean square error')\n",
    "plt.title('Cross Validation Results in Lasso Regression')\n",
    "plt.legend()\n",
    "plt.show()"
   ]
  },
  {
   "cell_type": "markdown",
   "metadata": {},
   "source": [
    "As we can see, Ridge, LASSO and Elastic Net can derive RMSE around 2.34. However, advanced model such as  [Gradient Boosting](https://scikit-learn.org/stable/modules/generated/sklearn.ensemble.GradientBoostingRegressor.html) with little hyperparameter tune can exceed fine-tune Linear Model easily. "
   ]
  },
  {
   "cell_type": "code",
   "execution_count": 71,
   "metadata": {},
   "outputs": [
    {
     "name": "stdout",
     "output_type": "stream",
     "text": [
      "MSE on test set for Gradient Boosting:  1.93169277758473\n"
     ]
    }
   ],
   "source": [
    "# GradientBoostingRegressor\n",
    "from sklearn.ensemble import GradientBoostingRegressor\n",
    "\n",
    "# initialize model\n",
    "gb = GradientBoostingRegressor(n_estimators=100, max_depth=3)\n",
    "# fit model\n",
    "gb.fit(x_train_std, y_train)\n",
    "# Predict\n",
    "y_test_pred_boosting = gb.predict(x_test_std)\n",
    "rmse_test_boosting = np.sqrt(np.mean((y_test - y_test_pred_boosting)**2))\n",
    "print (\"RMSE on test set for Gradient Boosting: \", rmse_test_boosting)"
   ]
  },
  {
   "cell_type": "markdown",
   "metadata": {},
   "source": [
    "Let's also apply the four linear models on test set, and calcualte the corresponding RMSEs. We can see that these linear models are somehow underfitting the dataset. This makes sense, because linear model is very simple for lending club data. The target of this project is not to get best regression model with the lowest RMSE or MAE, but to be familiar with Ridge, LASSO and Elastic Net. We will introduce more complicated classification and regression model in next phase.\n",
    "\n",
    "From the results below, we choose Ridge Regression as the final model."
   ]
  },
  {
   "cell_type": "code",
   "execution_count": 73,
   "metadata": {},
   "outputs": [
    {
     "name": "stdout",
     "output_type": "stream",
     "text": [
      "RMSE on test set for Ridge Regression:  2.324152749516228\n",
      "RMSE on test set for Lasso Regression:  2.335152192137883\n",
      "RMSE on test set for Elastic Net:  2.3351521953984586\n"
     ]
    }
   ],
   "source": [
    "# Ridge\n",
    "y_test_pred_ridge = RidgeReg.predict(x_test_std)\n",
    "rmse_test_ridge = np.sqrt(np.mean((y_test - y_test_pred_ridge)**2))\n",
    "print (\"RMSE on test set for Ridge Regression: \", rmse_test_ridge)\n",
    "\n",
    "# Lasso\n",
    "y_test_pred_lasso = LassoReg.predict(x_test_std)\n",
    "rmse_test_lasso = np.sqrt(np.mean((y_test - y_test_pred_lasso)**2))\n",
    "print (\"RMSE on test set for Lasso Regression: \", rmse_test_lasso)\n",
    "\n",
    "# Elastic Net\n",
    "y_test_pred_elasticnet = ElasticNetReg.predict(x_test_std)\n",
    "rmse_test_elasticnet = np.sqrt(np.mean((y_test - y_test_pred_elasticnet)**2))\n",
    "print (\"RMSE on test set for Elastic Net: \", rmse_test_elasticnet)"
   ]
  },
  {
   "cell_type": "markdown",
   "metadata": {},
   "source": [
    "# Conclusion and Interpretation"
   ]
  },
  {
   "cell_type": "markdown",
   "metadata": {},
   "source": [
    "Given the Ridge Regression with the best alpha, we find the coefficients of those features."
   ]
  },
  {
   "cell_type": "code",
   "execution_count": 75,
   "metadata": {},
   "outputs": [
    {
     "data": {
      "image/png": "[encoded data removed]",
      "text/plain": [
       "<Figure size 864x576 with 1 Axes>"
      ]
     },
     "metadata": {
      "needs_background": "light"
     },
     "output_type": "display_data"
    }
   ],
   "source": [
    "coef = pd.Series(RidgeReg.coef_, index = x.columns)\n",
    "importance_coef = pd.concat([coef.sort_values().head(10),\n",
    "                     coef.sort_values().tail(10)])\n",
    "plt.figure(figsize=(12,8))\n",
    "importance_coef.plot(kind = \"barh\")\n",
    "plt.title(\"Coefficients in the Ridge Regression\")\n",
    "plt.show()"
   ]
  },
  {
   "cell_type": "markdown",
   "metadata": {},
   "source": [
    "* funded_amnt (inv): The total amount committed to that loan at that point in time\n",
    "\n",
    "* out_prncp (inv): Remaining outstanding principal for total amount funded\n",
    "\n",
    "* loan_amnt (inv): The listed amount of the loan applied for by the borrower. If at some point in time, the credit department reduces the loan amount, then it will be reflected in this value\n",
    "\n"
   ]
  },
  {
   "cell_type": "code",
   "execution_count": null,
   "metadata": {},
   "outputs": [],
   "source": []
  }
 ],
 "metadata": {
  "kernelspec": {
   "display_name": "Python 3",
   "language": "python",
   "name": "python3"
  },
  "language_info": {
   "codemirror_mode": {
    "name": "ipython",
    "version": 3
   },
   "file_extension": ".py",
   "mimetype": "text/x-python",
   "name": "python",
   "nbconvert_exporter": "python",
   "pygments_lexer": "ipython3",
   "version": "3.6.8"
  },
  "toc": {
   "base_numbering": 1,
   "nav_menu": {},
   "number_sections": true,
   "sideBar": true,
   "skip_h1_title": false,
   "title_cell": "Table of Contents",
   "title_sidebar": "Contents",
   "toc_cell": false,
   "toc_position": {
    "height": "calc(100% - 180px)",
    "left": "10px",
    "top": "150px",
    "width": "273.168px"
   },
   "toc_section_display": true,
   "toc_window_display": true
  }
 },
 "nbformat": 4,
 "nbformat_minor": 2
}
